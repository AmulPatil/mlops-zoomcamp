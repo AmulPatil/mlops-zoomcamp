{
  "nbformat": 4,
  "nbformat_minor": 0,
  "metadata": {
    "colab": {
      "provenance": [],
      "authorship_tag": "ABX9TyO4Qqh2IlvmYGWw3yxlsPai",
      "include_colab_link": true
    },
    "kernelspec": {
      "name": "python3",
      "display_name": "Python 3"
    },
    "language_info": {
      "name": "python"
    }
  },
  "cells": [
    {
      "cell_type": "markdown",
      "metadata": {
        "id": "view-in-github",
        "colab_type": "text"
      },
      "source": [
        "<a href=\"https://colab.research.google.com/github/AmulPatil/mlops-zoomcamp/blob/main/MLOPS-Homework%20%231.ipynb\" target=\"_parent\"><img src=\"https://colab.research.google.com/assets/colab-badge.svg\" alt=\"Open In Colab\"/></a>"
      ]
    },
    {
      "cell_type": "code",
      "execution_count": 1,
      "metadata": {
        "colab": {
          "base_uri": "https://localhost:8080/"
        },
        "id": "FQtlR6veKgF-",
        "outputId": "8486bcff-7245-413c-e8f7-29524fa0bd3f"
      },
      "outputs": [
        {
          "output_type": "stream",
          "name": "stdout",
          "text": [
            "Drive already mounted at /content/drive; to attempt to forcibly remount, call drive.mount(\"/content/drive\", force_remount=True).\n"
          ]
        }
      ],
      "source": [
        "from google.colab import drive\n",
        "drive.mount('/content/drive')\n"
      ]
    },
    {
      "cell_type": "code",
      "source": [
        "!ls cd  drive/MyDrive/temp/mlops"
      ],
      "metadata": {
        "colab": {
          "base_uri": "https://localhost:8080/"
        },
        "id": "CVy2Eo5YOVKJ",
        "outputId": "29da374d-7901-4877-cac9-3b5a0112f3aa"
      },
      "execution_count": 2,
      "outputs": [
        {
          "output_type": "stream",
          "name": "stdout",
          "text": [
            "ls: cannot access 'cd': No such file or directory\n",
            "drive/MyDrive/temp/mlops:\n",
            "yellow_tripdata_2022-01.parquet  yellow_tripdata_2022-03.parquet\n",
            "yellow_tripdata_2022-02.parquet  yellow_tripdata_2022-04.parquet\n"
          ]
        }
      ]
    },
    {
      "cell_type": "code",
      "source": [
        "import pandas as pd\n",
        "import numpy as np\n",
        "import glob\n",
        "from sklearn.feature_extraction import DictVectorizer\n",
        "from sklearn.metrics import mean_squared_error\n",
        "\n",
        "from sklearn.linear_model import LinearRegression\n",
        "from sklearn.metrics import mean_squared_error\n",
        "import warnings\n",
        "warnings.suppress=True\n",
        "import pandas as pd\n",
        "pd.options.mode.chained_assignment = None"
      ],
      "metadata": {
        "id": "6sgwv80qOqU8"
      },
      "execution_count": 3,
      "outputs": []
    },
    {
      "cell_type": "code",
      "source": [
        "df_int = pd.read_parquet(\"drive/MyDrive/temp/mlops/yellow_tripdata_2022-01.parquet\")"
      ],
      "metadata": {
        "id": "S1Dy75HZOZTq"
      },
      "execution_count": 4,
      "outputs": []
    },
    {
      "cell_type": "code",
      "source": [
        "len(df_int.columns)#,df_int.info()"
      ],
      "metadata": {
        "colab": {
          "base_uri": "https://localhost:8080/"
        },
        "id": "5p9pQ3rU4bvL",
        "outputId": "6b3f3bb3-f88a-462d-c794-d1a792cf99fc"
      },
      "execution_count": 5,
      "outputs": [
        {
          "output_type": "execute_result",
          "data": {
            "text/plain": [
              "19"
            ]
          },
          "metadata": {},
          "execution_count": 5
        }
      ]
    },
    {
      "cell_type": "markdown",
      "source": [
        "Question 1: Number of columns in Jan 2022 Yellow Taxi Trip data\n",
        "* :19"
      ],
      "metadata": {
        "id": "s00Z2iOLRN4m"
      }
    },
    {
      "cell_type": "code",
      "source": [
        "\n",
        "def preprocess(df,train=True):\n",
        "  df['duration'] = df['tpep_dropoff_datetime']-df['tpep_pickup_datetime']\n",
        "  if train:\n",
        "    print(\"Question 2:  Standard deviation of the trips duration in Jan 2022 Yellow Taxi Trip\")\n",
        "    print(df['duration'].std())\n",
        "    print(\"Question 3: Fraction of the records left after dropping the outliers\")\n",
        "    print(100 - ((df.shape[0]-df[(df['duration']>pd.Timedelta(minutes=1))&(df['duration']<pd.Timedelta(minutes=60))].shape[0])/df.shape[0])*100)\n",
        "  df = df[(df['duration']>pd.Timedelta(minutes=1))&(df['duration']<pd.Timedelta(minutes=60))]\n",
        "  \n",
        "  df['duration'] = df['duration'].dt.seconds/60\n",
        "  df[['PULocationID', 'DOLocationID']] = df[['PULocationID', 'DOLocationID']].astype('str')\n",
        "  return df"
      ],
      "metadata": {
        "id": "sIc8exjLStw3"
      },
      "execution_count": 6,
      "outputs": []
    },
    {
      "cell_type": "code",
      "source": [],
      "metadata": {
        "id": "9E_Hq92s2pUR"
      },
      "execution_count": 6,
      "outputs": []
    },
    {
      "cell_type": "code",
      "source": [
        "df = preprocess(df_int,train=True)"
      ],
      "metadata": {
        "colab": {
          "base_uri": "https://localhost:8080/"
        },
        "id": "TMa6rb4HQs0H",
        "outputId": "62075cfd-fe10-42c9-b8ea-c3d33c6c0226"
      },
      "execution_count": 7,
      "outputs": [
        {
          "output_type": "stream",
          "name": "stdout",
          "text": [
            "Question 2:  Standard deviation of the trips duration in Jan 2022 Yellow Taxi Trip\n",
            "0 days 00:46:26.718308266\n",
            "Question 3: Fraction of the records left after dropping the outliers\n",
            "98.25883922885828\n"
          ]
        }
      ]
    },
    {
      "cell_type": "markdown",
      "source": [
        "Question 2:  Standard deviation of the trips duration in Jan 2022 Yellow Taxi Trip\n",
        "0 days 00:46:26.718308266 /n\n",
        "Question 3: Fraction of the records left after dropping the outliers\n",
        "98.25883922885828"
      ],
      "metadata": {
        "id": "MVo3bqGfSKS6"
      }
    },
    {
      "cell_type": "markdown",
      "source": [
        "Let's apply one-hot encoding to the pickup and dropoff location IDs. We'll use only these two features for our model.\n",
        "\n",
        "Turn the dataframe into a list of dictionaries\n",
        "Fit a dictionary vectorizer\n",
        "Get a feature matrix from it\n",
        "What's the dimensionality of this matrix (number of columns)? 515"
      ],
      "metadata": {
        "id": "qlm9q4_qVxZI"
      }
    },
    {
      "cell_type": "code",
      "source": [
        "\n",
        "vectorizer = DictVectorizer()\n",
        "data_inter = df[['PULocationID', 'DOLocationID']].to_dict(orient='records')\n",
        "X = vectorizer.fit_transform(data_inter)\n"
      ],
      "metadata": {
        "id": "4XlBdsK0nhlY"
      },
      "execution_count": 8,
      "outputs": []
    },
    {
      "cell_type": "code",
      "source": [
        "X.shape[1]"
      ],
      "metadata": {
        "colab": {
          "base_uri": "https://localhost:8080/"
        },
        "id": "fRbyV4jooKRv",
        "outputId": "b28c5441-f7da-48bc-e5fd-bdea79eb32ff"
      },
      "execution_count": 9,
      "outputs": [
        {
          "output_type": "execute_result",
          "data": {
            "text/plain": [
              "515"
            ]
          },
          "metadata": {},
          "execution_count": 9
        }
      ]
    },
    {
      "cell_type": "markdown",
      "source": [
        "Question 4: Dimensionality after OHE? 515"
      ],
      "metadata": {
        "id": "CKvKl3kg5hGM"
      }
    },
    {
      "cell_type": "code",
      "source": [
        "\n",
        "y = df['duration']\n",
        "reg = LinearRegression().fit(X, y)\n",
        "reg.score(X, y)\n",
        "print(\"Question 5: RMSE on train : \"+str(mean_squared_error(y, reg.predict(X), squared=False)))\n"
      ],
      "metadata": {
        "colab": {
          "base_uri": "https://localhost:8080/"
        },
        "id": "pv9PqVBFoKbs",
        "outputId": "60de34f7-a275-44d9-9e91-fa1f1d49c52f"
      },
      "execution_count": 10,
      "outputs": [
        {
          "output_type": "stream",
          "name": "stdout",
          "text": [
            "Question 5: RMSE on train : 6.983870768584342\n"
          ]
        }
      ]
    },
    {
      "cell_type": "code",
      "source": [
        "df_val = pd.read_parquet('drive/MyDrive/temp/mlops/yellow_tripdata_2022-02.parquet')\n",
        "df_val_process = preprocess(df_val,train=False)"
      ],
      "metadata": {
        "id": "yNp1_XUCnt5t"
      },
      "execution_count": 11,
      "outputs": []
    },
    {
      "cell_type": "code",
      "source": [
        "data_inter_eval = df_val_process[['PULocationID', 'DOLocationID']].to_dict(orient='records')\n",
        "X_eval = vectorizer.transform(data_inter_eval)\n",
        "rms_eval = mean_squared_error(df_val_process['duration'], reg.predict(X_eval), squared=False)\n"
      ],
      "metadata": {
        "id": "oPY-0BgZwVbW"
      },
      "execution_count": 12,
      "outputs": []
    },
    {
      "cell_type": "code",
      "source": [
        "print(\"Question 6: RMSE on validation: \"+str(mean_squared_error(df_val_process['duration'], reg.predict(X_eval), squared=False)))\n"
      ],
      "metadata": {
        "colab": {
          "base_uri": "https://localhost:8080/"
        },
        "id": "4pwDf01KxKEe",
        "outputId": "3b219606-a273-41c8-8080-f392a77a40f2"
      },
      "execution_count": 13,
      "outputs": [
        {
          "output_type": "stream",
          "name": "stdout",
          "text": [
            "Question 6: RMSE on validation: 7.784425752834739\n"
          ]
        }
      ]
    },
    {
      "cell_type": "code",
      "source": [],
      "metadata": {
        "id": "QafZfsDfxKRO"
      },
      "execution_count": 13,
      "outputs": []
    }
  ]
}